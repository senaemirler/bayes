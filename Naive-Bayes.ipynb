{
 "cells": [
  {
   "cell_type": "code",
   "execution_count": 1,
   "id": "e9ac9077",
   "metadata": {},
   "outputs": [],
   "source": [
    "from sklearn.naive_bayes import MultinomialNB\n",
    "from sklearn.feature_extraction.text import CountVectorizer\n",
    "from sklearn.model_selection import train_test_split"
   ]
  },
  {
   "cell_type": "code",
   "execution_count": 2,
   "id": "5b243077",
   "metadata": {},
   "outputs": [
    {
     "name": "stdout",
     "output_type": "stream",
     "text": [
      "Accuracy:  0.0\n"
     ]
    }
   ],
   "source": [
    "# CountVectorizer ve MultinomialNB sınıflarının oluşturulması\n",
    "vectorizer = CountVectorizer()\n",
    "clf = MultinomialNB()\n",
    "\n",
    "# Veri setini tanımlayın\n",
    "data = [\"bu olumlu bir metindir\", \"bu negatif bir metindir\", \"bu nötr bir metindir\"]\n",
    "labels = [1, 0, 2]\n",
    "\n",
    "# Veri kümesinin özellikleri fit_transform kullanarak ayıklanması\n",
    "features = vectorizer.fit_transform(data)\n",
    "\n",
    "# Veri setini eğitim ve test setlerine ayrılması\n",
    "X_train, X_test, y_train, y_test = train_test_split(features, labels)\n",
    "\n",
    "# Modelin eğitim setiyle eğitilmesi\n",
    "clf.fit(X_train, y_train)\n",
    "\n",
    "# Modelin test edilmesi\n",
    "predictions = clf.predict(X_test)\n",
    "\n",
    "# Modelin performansı\n",
    "accuracy = clf.score(X_test, y_test)\n",
    "print(\"Accuracy: \", accuracy)\n"
   ]
  },
  {
   "cell_type": "code",
   "execution_count": null,
   "id": "973c3688",
   "metadata": {},
   "outputs": [],
   "source": []
  }
 ],
 "metadata": {
  "kernelspec": {
   "display_name": "Python 3 (ipykernel)",
   "language": "python",
   "name": "python3"
  },
  "language_info": {
   "codemirror_mode": {
    "name": "ipython",
    "version": 3
   },
   "file_extension": ".py",
   "mimetype": "text/x-python",
   "name": "python",
   "nbconvert_exporter": "python",
   "pygments_lexer": "ipython3",
   "version": "3.9.13"
  }
 },
 "nbformat": 4,
 "nbformat_minor": 5
}
